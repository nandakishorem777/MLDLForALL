{
  "nbformat": 4,
  "nbformat_minor": 0,
  "metadata": {
    "kernelspec": {
      "display_name": "Python 3",
      "language": "python",
      "name": "python3"
    },
    "language_info": {
      "codemirror_mode": {
        "name": "ipython",
        "version": 3
      },
      "file_extension": ".py",
      "mimetype": "text/x-python",
      "name": "python",
      "nbconvert_exporter": "python",
      "pygments_lexer": "ipython3",
      "version": "3.8.5"
    },
    "colab": {
      "name": "Linear_Regression_Using_Sklearn_and_TF_Keras_ANN.ipynb",
      "provenance": [],
      "collapsed_sections": [],
      "toc_visible": true
    }
  },
  "cells": [
    {
      "cell_type": "markdown",
      "metadata": {
        "id": "U7etWqFUPVO3"
      },
      "source": [
        "# Regression Using sklearn's LinearRegression and also building ANN using Tensorflow-Keras\n",
        "\n",
        "The goal of this project was to build a linear regression model from the ground up using Pandas and Scikit Learn.\n",
        "\n",
        "Also build an ANN model using Tensorflow Keras to fit the data. Compare the results."
      ]
    },
    {
      "cell_type": "markdown",
      "metadata": {
        "id": "zNLXiqCwU3ta"
      },
      "source": [
        "## Import Libraries and mount the drive\n"
      ]
    },
    {
      "cell_type": "code",
      "metadata": {
        "id": "10oeuYpzPVO-"
      },
      "source": [
        "%matplotlib inline\n",
        "\n",
        "import numpy as np\n",
        "import pandas as pd\n",
        "import matplotlib.pyplot as plt\n",
        "import tensorflow as tf\n",
        "from keras.layers.normalization import BatchNormalization\n",
        "from sklearn.linear_model import LinearRegression\n",
        "from sklearn.metrics import mean_squared_error"
      ],
      "execution_count": null,
      "outputs": []
    },
    {
      "cell_type": "code",
      "metadata": {
        "id": "E3bu5Fx1PxIZ",
        "colab": {
          "base_uri": "https://localhost:8080/"
        },
        "outputId": "92e0c5d4-c2c5-47ae-bf72-7634b4cd12c2"
      },
      "source": [
        "from google.colab import drive\n",
        "drive.mount('/content/drive')"
      ],
      "execution_count": null,
      "outputs": [
        {
          "output_type": "stream",
          "text": [
            "Mounted at /content/drive\n"
          ],
          "name": "stdout"
        }
      ]
    },
    {
      "cell_type": "markdown",
      "metadata": {
        "collapsed": true,
        "id": "6Zhw99WWPVO_"
      },
      "source": [
        "## Import the data\n",
        "\n"
      ]
    },
    {
      "cell_type": "markdown",
      "metadata": {
        "id": "_uhsuUToPVPB"
      },
      "source": [
        "### Get the input data --> X, Y\n",
        "\n"
      ]
    },
    {
      "cell_type": "code",
      "metadata": {
        "id": "NNpNz3HcPVPD",
        "colab": {
          "base_uri": "https://localhost:8080/",
          "height": 297
        },
        "outputId": "3c93d274-2784-4e78-a167-64efddc8e9a1"
      },
      "source": [
        "plt.scatter(X,Y)\n",
        "plt.xlabel('Hours of study')\n",
        "plt.ylabel('Test scores')"
      ],
      "execution_count": null,
      "outputs": [
        {
          "output_type": "execute_result",
          "data": {
            "text/plain": [
              "Text(0, 0.5, 'Test scores')"
            ]
          },
          "metadata": {
            "tags": []
          },
          "execution_count": 8
        },
        {
          "output_type": "display_data",
          "data": {
            "image/png": "[encoded data removed]",
            "text/plain": [
              "<Figure size 432x288 with 1 Axes>"
            ]
          },
          "metadata": {
            "tags": [],
            "needs_background": "light"
          }
        }
      ]
    },
    {
      "cell_type": "code",
      "metadata": {
        "scrolled": true,
        "id": "Zml9yYpSPVPA",
        "colab": {
          "base_uri": "https://localhost:8080/",
          "height": 202
        },
        "outputId": "260d43e3-88f2-4b05-90bf-1647f083b468"
      },
      "source": [
        "data = pd.read_csv(\"/content/drive/MyDrive/Colab Notebooks/Linear Regression/data.csv\") #Reading the given data\n",
        "data.head()   #Showing the first few rows of the data\n"
      ],
      "execution_count": null,
      "outputs": [
        {
          "output_type": "execute_result",
          "data": {
            "text/html": [
              "<div>\n",
              "<style scoped>\n",
              "    .dataframe tbody tr th:only-of-type {\n",
              "        vertical-align: middle;\n",
              "    }\n",
              "\n",
              "    .dataframe tbody tr th {\n",
              "        vertical-align: top;\n",
              "    }\n",
              "\n",
              "    .dataframe thead th {\n",
              "        text-align: right;\n",
              "    }\n",
              "</style>\n",
              "<table border=\"1\" class=\"dataframe\">\n",
              "  <thead>\n",
              "    <tr style=\"text-align: right;\">\n",
              "      <th></th>\n",
              "      <th>Hours_of_Study</th>\n",
              "      <th>Test_Scores</th>\n",
              "    </tr>\n",
              "  </thead>\n",
              "  <tbody>\n",
              "    <tr>\n",
              "      <th>0</th>\n",
              "      <td>32.502345</td>\n",
              "      <td>31.707006</td>\n",
              "    </tr>\n",
              "    <tr>\n",
              "      <th>1</th>\n",
              "      <td>53.426804</td>\n",
              "      <td>68.777596</td>\n",
              "    </tr>\n",
              "    <tr>\n",
              "      <th>2</th>\n",
              "      <td>61.530358</td>\n",
              "      <td>62.562382</td>\n",
              "    </tr>\n",
              "    <tr>\n",
              "      <th>3</th>\n",
              "      <td>47.475640</td>\n",
              "      <td>71.546632</td>\n",
              "    </tr>\n",
              "    <tr>\n",
              "      <th>4</th>\n",
              "      <td>59.813208</td>\n",
              "      <td>87.230925</td>\n",
              "    </tr>\n",
              "  </tbody>\n",
              "</table>\n",
              "</div>"
            ],
            "text/plain": [
              "   Hours_of_Study  Test_Scores\n",
              "0       32.502345    31.707006\n",
              "1       53.426804    68.777596\n",
              "2       61.530358    62.562382\n",
              "3       47.475640    71.546632\n",
              "4       59.813208    87.230925"
            ]
          },
          "metadata": {
            "tags": []
          },
          "execution_count": 3
        }
      ]
    },
    {
      "cell_type": "code",
      "metadata": {
        "colab": {
          "base_uri": "https://localhost:8080/"
        },
        "id": "dCUbIKAdm7aY",
        "outputId": "b0e170e2-d9f6-4863-f0bf-fb442e7e7220"
      },
      "source": [
        "## Hours_of_Study and Test_Scores are called Series according to Pandas.\n",
        "X = data[\"Hours_of_Study\"]\n",
        "\n",
        "Y = data[\"Test_Scores\"]\n",
        "\n",
        " \n",
        "# check the type and shape of X\n",
        "print(\"X type is \",type(X))\n",
        "print(\"X shape is \",X.shape)\n",
        "\n",
        "# check the type and shape of Y\n",
        "print(\"Y type is \",type(Y))\n",
        "print(\"Y shape is \",Y.shape)\n",
        "\n",
        "X = X.values.reshape(-1,1)\n",
        "print(\"X after reshape is \",X.shape)"
      ],
      "execution_count": null,
      "outputs": [
        {
          "output_type": "stream",
          "text": [
            "X type is  <class 'pandas.core.series.Series'>\n",
            "X shape is  (100,)\n",
            "Y type is  <class 'pandas.core.series.Series'>\n",
            "Y shape is  (100,)\n",
            "X after reshape is  (100, 1)\n"
          ],
          "name": "stdout"
        }
      ]
    },
    {
      "cell_type": "markdown",
      "metadata": {
        "id": "nVL_h8A2PVPD"
      },
      "source": [
        "### Splitting the data into train and validation\n"
      ]
    },
    {
      "cell_type": "code",
      "metadata": {
        "id": "UR-TVtjEPVPD"
      },
      "source": [
        "from sklearn.model_selection import train_test_split\n",
        "X_train, X_test, y_train, y_test = train_test_split(X, Y, test_size=0.2,random_state=1)"
      ],
      "execution_count": null,
      "outputs": []
    },
    {
      "cell_type": "code",
      "metadata": {
        "id": "WladvJjNPVPE",
        "colab": {
          "base_uri": "https://localhost:8080/"
        },
        "outputId": "cb85cdfb-9efb-4d9d-db0c-1a45e34b4dc8"
      },
      "source": [
        "# default split is 75% for training and 25% for testing\n",
        "print(X_train.shape)\n",
        "print(y_train.shape)\n",
        "print(X_test.shape)\n",
        "print(y_test.shape)"
      ],
      "execution_count": null,
      "outputs": [
        {
          "output_type": "stream",
          "text": [
            "(80, 1)\n",
            "(80,)\n",
            "(20, 1)\n",
            "(20,)\n"
          ],
          "name": "stdout"
        }
      ]
    },
    {
      "cell_type": "markdown",
      "metadata": {
        "id": "nsNXZ6XOPVPE"
      },
      "source": [
        "## Feature Scaling\n",
        "This is an optional step. Only to understand the importance of scaling, this is included."
      ]
    },
    {
      "cell_type": "code",
      "metadata": {
        "id": "1teLAYFxPVPE"
      },
      "source": [
        "from sklearn.preprocessing import StandardScaler\n",
        "sc = StandardScaler()\n",
        "X_train = sc.fit_transform(X_train)\n",
        "X_test = sc.fit_transform(X_test)\n"
      ],
      "execution_count": null,
      "outputs": []
    },
    {
      "cell_type": "markdown",
      "metadata": {
        "id": "7RfFUPokVcAg"
      },
      "source": [
        "## LinearRegression implementation using Sklearn"
      ]
    },
    {
      "cell_type": "code",
      "metadata": {
        "id": "tnFearzMPVPE",
        "colab": {
          "base_uri": "https://localhost:8080/"
        },
        "outputId": "fad66c89-d42c-4c31-ab84-ebb816c7787d"
      },
      "source": [
        "lin_reg = LinearRegression()\n",
        "# fitting the linear model for train data\n",
        "lin_reg.fit(X_train,y_train)"
      ],
      "execution_count": null,
      "outputs": [
        {
          "output_type": "execute_result",
          "data": {
            "text/plain": [
              "LinearRegression(copy_X=True, fit_intercept=True, n_jobs=None, normalize=False)"
            ]
          },
          "metadata": {
            "tags": []
          },
          "execution_count": 10
        }
      ]
    },
    {
      "cell_type": "code",
      "metadata": {
        "id": "BxyHATd9PVPF"
      },
      "source": [
        "# predicting test data on trained model\n",
        "data_predictions = lin_reg.predict(X_test)\n"
      ],
      "execution_count": null,
      "outputs": []
    },
    {
      "cell_type": "code",
      "metadata": {
        "id": "x5gEe5xrPVPF",
        "colab": {
          "base_uri": "https://localhost:8080/"
        },
        "outputId": "076eea50-8a9b-4e0b-a61e-71b79d4f874e"
      },
      "source": [
        "# Calculate the Root Mean Squared Error (RMSE) and Mean Absolute Error (MAE) between test and predictions\n",
        "from sklearn import metrics\n",
        "print(np.sqrt(metrics.mean_squared_error(y_test, data_predictions)))\n",
        "print(metrics.mean_absolute_error(y_test, data_predictions))"
      ],
      "execution_count": null,
      "outputs": [
        {
          "output_type": "stream",
          "text": [
            "13.522181079909986\n",
            "10.649990681209617\n"
          ],
          "name": "stdout"
        }
      ]
    },
    {
      "cell_type": "code",
      "metadata": {
        "id": "Mol8afV1PVPF",
        "colab": {
          "base_uri": "https://localhost:8080/",
          "height": 297
        },
        "outputId": "bd91c214-836f-4a7d-e512-8188ac6b2d0f"
      },
      "source": [
        "plt.scatter(X_train,y_train)\n",
        "plt.plot(X_test,data_predictions)\n",
        "plt.xlabel('Hours of study')\n",
        "plt.ylabel('Test scores')"
      ],
      "execution_count": null,
      "outputs": [
        {
          "output_type": "execute_result",
          "data": {
            "text/plain": [
              "Text(0, 0.5, 'Test scores')"
            ]
          },
          "metadata": {
            "tags": []
          },
          "execution_count": 70
        },
        {
          "output_type": "display_data",
          "data": {
            "image/png": "[encoded data removed]",
            "text/plain": [
              "<Figure size 432x288 with 1 Axes>"
            ]
          },
          "metadata": {
            "tags": [],
            "needs_background": "light"
          }
        }
      ]
    },
    {
      "cell_type": "markdown",
      "metadata": {
        "id": "-dGIpvZsV56h"
      },
      "source": [
        "## Building an ANN"
      ]
    },
    {
      "cell_type": "code",
      "metadata": {
        "id": "QhElEr6tPVPG"
      },
      "source": [
        "#Initialize an ANN\n",
        "ann = tf.keras.Sequential()"
      ],
      "execution_count": null,
      "outputs": []
    },
    {
      "cell_type": "code",
      "metadata": {
        "id": "YVNQWrs-SI-a"
      },
      "source": [
        "#Add 1st hidden Layer\n",
        "ann.add(tf.keras.layers.Dense(units=4, input_dim=1, kernel_initializer='normal', activation='relu'))"
      ],
      "execution_count": null,
      "outputs": []
    },
    {
      "cell_type": "code",
      "metadata": {
        "id": "XfXYtFFEPVPH"
      },
      "source": [
        "#Add 2nd hidden layer\n",
        "ann.add(tf.keras.layers.Dense(units=10, kernel_initializer='normal', activation='relu'))"
      ],
      "execution_count": null,
      "outputs": []
    },
    {
      "cell_type": "code",
      "metadata": {
        "id": "8ongP6NvPVPH"
      },
      "source": [
        "#Add output Layer\n",
        "ann.add(tf.keras.layers.Dense(units=1, kernel_initializer='normal'))"
      ],
      "execution_count": null,
      "outputs": []
    },
    {
      "cell_type": "code",
      "metadata": {
        "id": "hQueVmn3PVPH"
      },
      "source": [
        "#Specify the optimizer and loss fucntions\n",
        "ann.compile(optimizer = 'adam', loss = 'mean_squared_error', metrics=[tf.keras.metrics.MeanSquaredError()])"
      ],
      "execution_count": null,
      "outputs": []
    },
    {
      "cell_type": "code",
      "metadata": {
        "id": "7cFShq8zPVPH",
        "colab": {
          "base_uri": "https://localhost:8080/"
        },
        "outputId": "f6afe7a2-659d-4aac-be5e-d4af8716b775"
      },
      "source": [
        "#Fit the model to the data\n",
        "ann.fit(X_train, y_train, batch_size = 8, epochs = 20)"
      ],
      "execution_count": null,
      "outputs": [
        {
          "output_type": "stream",
          "text": [
            "Epoch 1/20\n",
            "10/10 [==============================] - 0s 1ms/step - loss: 102.4839 - mean_squared_error: 102.4839\n",
            "Epoch 2/20\n",
            "10/10 [==============================] - 0s 1ms/step - loss: 101.9821 - mean_squared_error: 101.9821\n",
            "Epoch 3/20\n",
            "10/10 [==============================] - 0s 1ms/step - loss: 101.6863 - mean_squared_error: 101.6863\n",
            "Epoch 4/20\n",
            "10/10 [==============================] - 0s 1ms/step - loss: 101.3723 - mean_squared_error: 101.3723\n",
            "Epoch 5/20\n",
            "10/10 [==============================] - 0s 2ms/step - loss: 100.9509 - mean_squared_error: 100.9509\n",
            "Epoch 6/20\n",
            "10/10 [==============================] - 0s 2ms/step - loss: 100.7251 - mean_squared_error: 100.7251\n",
            "Epoch 7/20\n",
            "10/10 [==============================] - 0s 2ms/step - loss: 100.4737 - mean_squared_error: 100.4737\n",
            "Epoch 8/20\n",
            "10/10 [==============================] - 0s 2ms/step - loss: 100.3154 - mean_squared_error: 100.3154\n",
            "Epoch 9/20\n",
            "10/10 [==============================] - 0s 2ms/step - loss: 100.0214 - mean_squared_error: 100.0214\n",
            "Epoch 10/20\n",
            "10/10 [==============================] - 0s 2ms/step - loss: 99.9234 - mean_squared_error: 99.9234\n",
            "Epoch 11/20\n",
            "10/10 [==============================] - 0s 1ms/step - loss: 99.7976 - mean_squared_error: 99.7976\n",
            "Epoch 12/20\n",
            "10/10 [==============================] - 0s 2ms/step - loss: 99.6246 - mean_squared_error: 99.6246\n",
            "Epoch 13/20\n",
            "10/10 [==============================] - 0s 2ms/step - loss: 99.4813 - mean_squared_error: 99.4813\n",
            "Epoch 14/20\n",
            "10/10 [==============================] - 0s 2ms/step - loss: 99.4228 - mean_squared_error: 99.4228\n",
            "Epoch 15/20\n",
            "10/10 [==============================] - 0s 2ms/step - loss: 99.3341 - mean_squared_error: 99.3341\n",
            "Epoch 16/20\n",
            "10/10 [==============================] - 0s 1ms/step - loss: 99.2720 - mean_squared_error: 99.2720\n",
            "Epoch 17/20\n",
            "10/10 [==============================] - 0s 1ms/step - loss: 99.1975 - mean_squared_error: 99.1975\n",
            "Epoch 18/20\n",
            "10/10 [==============================] - 0s 1ms/step - loss: 99.1907 - mean_squared_error: 99.1907\n",
            "Epoch 19/20\n",
            "10/10 [==============================] - 0s 1ms/step - loss: 99.1323 - mean_squared_error: 99.1323\n",
            "Epoch 20/20\n",
            "10/10 [==============================] - 0s 2ms/step - loss: 99.0261 - mean_squared_error: 99.0261\n"
          ],
          "name": "stdout"
        },
        {
          "output_type": "execute_result",
          "data": {
            "text/plain": [
              "<tensorflow.python.keras.callbacks.History at 0x7f359fb69b50>"
            ]
          },
          "metadata": {
            "tags": []
          },
          "execution_count": 33
        }
      ]
    },
    {
      "cell_type": "code",
      "metadata": {
        "id": "gDhPfGrpPVPI",
        "colab": {
          "base_uri": "https://localhost:8080/"
        },
        "outputId": "cb2e7408-9d5e-45e2-aab4-89484e79b888"
      },
      "source": [
        "ann.summary()"
      ],
      "execution_count": null,
      "outputs": [
        {
          "output_type": "stream",
          "text": [
            "Model: \"sequential\"\n",
            "_________________________________________________________________\n",
            "Layer (type)                 Output Shape              Param #   \n",
            "=================================================================\n",
            "dense (Dense)                (None, 4)                 8         \n",
            "_________________________________________________________________\n",
            "dense_1 (Dense)              (None, 10)                50        \n",
            "_________________________________________________________________\n",
            "dense_2 (Dense)              (None, 1)                 11        \n",
            "=================================================================\n",
            "Total params: 69\n",
            "Trainable params: 69\n",
            "Non-trainable params: 0\n",
            "_________________________________________________________________\n"
          ],
          "name": "stdout"
        }
      ]
    },
    {
      "cell_type": "code",
      "metadata": {
        "id": "cIWmK4AdPVPI"
      },
      "source": [
        "#Calculate the predictions on test data\n",
        "y_pred = ann.predict(X_test)"
      ],
      "execution_count": null,
      "outputs": []
    },
    {
      "cell_type": "code",
      "metadata": {
        "id": "i8_9CczmPVPI",
        "colab": {
          "base_uri": "https://localhost:8080/"
        },
        "outputId": "dcb53090-b68d-451a-a4fb-56da4760a6cc"
      },
      "source": [
        "print(y_pred)"
      ],
      "execution_count": null,
      "outputs": [
        {
          "output_type": "stream",
          "text": [
            "[[80.372894]\n",
            " [81.38467 ]\n",
            " [81.81391 ]\n",
            " [80.33604 ]\n",
            " [68.20187 ]\n",
            " [84.24667 ]\n",
            " [86.07046 ]\n",
            " [54.630573]\n",
            " [56.16471 ]\n",
            " [60.590218]\n",
            " [93.906166]\n",
            " [58.443237]\n",
            " [62.666008]\n",
            " [61.778366]\n",
            " [66.23033 ]\n",
            " [63.873672]\n",
            " [56.03894 ]\n",
            " [87.326614]\n",
            " [79.12334 ]\n",
            " [67.27653 ]]\n"
          ],
          "name": "stdout"
        }
      ]
    },
    {
      "cell_type": "code",
      "metadata": {
        "id": "KLYjPSNIPVPI",
        "colab": {
          "base_uri": "https://localhost:8080/"
        },
        "outputId": "a7f10b28-c960-42c4-cd73-0a2bbdfaae7d"
      },
      "source": [
        "# Calculate the Root Mean Squared Error (RMSE) and Mean Absolute Error (MAE) between test and predictions\n",
        "print(np.sqrt(metrics.mean_squared_error(y_test, y_pred)))\n",
        "print(metrics.mean_absolute_error(y_test, y_pred))"
      ],
      "execution_count": null,
      "outputs": [
        {
          "output_type": "stream",
          "text": [
            "13.339420012039078\n",
            "10.585215342695385\n"
          ],
          "name": "stdout"
        }
      ]
    },
    {
      "cell_type": "code",
      "metadata": {
        "id": "vZ9Hbk_UPVPJ",
        "colab": {
          "base_uri": "https://localhost:8080/",
          "height": 297
        },
        "outputId": "7294f84f-cfe7-4935-d7d7-6039ff03ad0a"
      },
      "source": [
        "plt.scatter(X_test,y_pred)\n",
        "plt.xlabel('Hours of study')\n",
        "plt.ylabel('Test scores')"
      ],
      "execution_count": null,
      "outputs": [
        {
          "output_type": "execute_result",
          "data": {
            "text/plain": [
              "Text(0, 0.5, 'Test scores')"
            ]
          },
          "metadata": {
            "tags": []
          },
          "execution_count": 37
        },
        {
          "output_type": "display_data",
          "data": {
            "image/png": "[encoded data removed]",
            "text/plain": [
              "<Figure size 432x288 with 1 Axes>"
            ]
          },
          "metadata": {
            "tags": [],
            "needs_background": "light"
          }
        }
      ]
    },
    {
      "cell_type": "code",
      "metadata": {
        "id": "SvkBEd_tPVPJ",
        "colab": {
          "base_uri": "https://localhost:8080/",
          "height": 297
        },
        "outputId": "7e0dd9fd-e756-434a-c9b7-6076e1a40864"
      },
      "source": [
        "plt.scatter(X_train,y_train)\n",
        "plt.plot(X_test,y_pred)\n",
        "plt.xlabel('Hours of study')\n",
        "plt.ylabel('Test scores')"
      ],
      "execution_count": null,
      "outputs": [
        {
          "output_type": "execute_result",
          "data": {
            "text/plain": [
              "Text(0, 0.5, 'Test scores')"
            ]
          },
          "metadata": {
            "tags": []
          },
          "execution_count": 38
        },
        {
          "output_type": "display_data",
          "data": {
            "image/png": "[encoded data removed]",
            "text/plain": [
              "<Figure size 432x288 with 1 Axes>"
            ]
          },
          "metadata": {
            "tags": [],
            "needs_background": "light"
          }
        }
      ]
    }
  ]
}